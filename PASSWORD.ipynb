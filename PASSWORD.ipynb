{
 "cells": [
  {
   "cell_type": "code",
   "execution_count": 2,
   "id": "11016691",
   "metadata": {},
   "outputs": [
    {
     "name": "stdout",
     "output_type": "stream",
     "text": [
      "Enter the desired length of the password: 10\n",
      "Generated Password: hAVPWIxYD]\n"
     ]
    }
   ],
   "source": [
    "import random\n",
    "import string\n",
    "\n",
    "# Function to generate a random password\n",
    "def generate_password(pw_length):\n",
    "    # Define the character sets for the password\n",
    "    lowercase_letters = string.ascii_lowercase\n",
    "    uppercase_letters = string.ascii_uppercase\n",
    "    digits = string.digits\n",
    "    special_characters = '!@#$%^&*()_+-=[]{}|;:,.<>?'\n",
    "\n",
    "    # Combine character sets based on complexity\n",
    "    if pw_length < 8:\n",
    "        character_set = lowercase_letters + uppercase_letters + digits\n",
    "    else:\n",
    "        character_set = lowercase_letters + uppercase_letters + digits + special_characters\n",
    "\n",
    "    # Generate the password by randomly selecting characters\n",
    "    password = ''.join(random.choice(character_set) for _ in range(pw_length))\n",
    "    return password\n",
    "\n",
    "# Main program\n",
    "if __name__ == \"__main__\":\n",
    "    try:\n",
    "        pw_length = int(input(\"Enter the desired length of the password: \"))\n",
    "        if pw_length <= 0:\n",
    "            print(\"Invalid input. Password length must be a positive integer.\")\n",
    "        else:\n",
    "            generated_password = generate_password(pw_length)\n",
    "            print(\"Generated Password: \" + generated_password)\n",
    "    except ValueError:\n",
    "        print(\"Invalid input. Please enter a valid positive integer for password length.\")\n"
   ]
  },
  {
   "cell_type": "code",
   "execution_count": null,
   "id": "51f591cc",
   "metadata": {},
   "outputs": [],
   "source": []
  }
 ],
 "metadata": {
  "kernelspec": {
   "display_name": "Python 3 (ipykernel)",
   "language": "python",
   "name": "python3"
  },
  "language_info": {
   "codemirror_mode": {
    "name": "ipython",
    "version": 3
   },
   "file_extension": ".py",
   "mimetype": "text/x-python",
   "name": "python",
   "nbconvert_exporter": "python",
   "pygments_lexer": "ipython3",
   "version": "3.9.12"
  }
 },
 "nbformat": 4,
 "nbformat_minor": 5
}
